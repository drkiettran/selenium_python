{
 "cells": [
  {
   "cell_type": "markdown",
   "metadata": {},
   "source": [
    "# Notebook for Selenium WebDriver\n",
    "\n",
    "pip3 install selenium\n"
   ]
  },
  {
   "cell_type": "code",
   "execution_count": null,
   "metadata": {},
   "outputs": [],
   "source": [
    "from selenium import webdriver\n",
    "from selenium.webdriver.chrome.options import Options\n",
    "import os\n",
    "from os import path\n",
    "import zipfile\n",
    "import shutil\n",
    "import xml.etree.ElementTree as ET\n"
   ]
  },
  {
   "cell_type": "code",
   "execution_count": null,
   "metadata": {},
   "outputs": [],
   "source": [
    "driver = webdriver.Chrome()"
   ]
  },
  {
   "cell_type": "code",
   "execution_count": null,
   "metadata": {},
   "outputs": [],
   "source": [
    "driver.close()"
   ]
  },
  {
   "cell_type": "code",
   "execution_count": null,
   "metadata": {},
   "outputs": [],
   "source": [
    "test_url = 'http://tomcat.apache.org/'\n",
    "driver.get(test_url)"
   ]
  },
  {
   "cell_type": "markdown",
   "metadata": {},
   "source": [
    "## Searching for elements\n"
   ]
  },
  {
   "cell_type": "code",
   "execution_count": null,
   "metadata": {},
   "outputs": [],
   "source": [
    "# search for a element h3 where the text contains a string of '8.5.57'\n",
    "search_str = \"//h3[contains(text(),'8.5.57')]\""
   ]
  },
  {
   "cell_type": "code",
   "execution_count": null,
   "metadata": {},
   "outputs": [],
   "source": [
    "# search for an element where id is 'mainLeft'. Assumeably an id is unique throughout the doc\n",
    "search_str = \"//*[@id='mainLeft']\""
   ]
  },
  {
   "cell_type": "code",
   "execution_count": null,
   "metadata": {},
   "outputs": [],
   "source": [
    "# search for an element where name is 'author'. Assumeably an name is unique throughout the doc\n",
    "search_str = \"//*[@name='author']\""
   ]
  },
  {
   "cell_type": "code",
   "execution_count": null,
   "metadata": {},
   "outputs": [],
   "source": [
    "# search for an element where link is 'http://tomcat.apache.org/'\n",
    "search_str = \"//*[@href='http://tomcat.apache.org/']\""
   ]
  },
  {
   "cell_type": "code",
   "execution_count": null,
   "metadata": {},
   "outputs": [],
   "source": [
    "# search for an element where class name is 'clearfix'\n",
    "search_str = \"//*[@class='clearfix']\""
   ]
  },
  {
   "cell_type": "code",
   "execution_count": null,
   "metadata": {},
   "outputs": [],
   "source": [
    "# search for an element by tag name 'button'\n",
    "search_str = \"//button\""
   ]
  },
  {
   "cell_type": "code",
   "execution_count": null,
   "metadata": {},
   "outputs": [],
   "source": [
    "# search for an element by a CSS selector, i.e., #xyz"
   ]
  },
  {
   "cell_type": "code",
   "execution_count": null,
   "metadata": {},
   "outputs": [],
   "source": [
    "search_str = \"//select[@name='Preferred']\""
   ]
  },
  {
   "cell_type": "code",
   "execution_count": null,
   "metadata": {},
   "outputs": [],
   "source": [
    "# exact text search\n",
    "search_str = \"//option[text()='https://apache.cs.utah.edu/']\""
   ]
  },
  {
   "cell_type": "markdown",
   "metadata": {},
   "source": [
    "## Spring Initializr website\n"
   ]
  },
  {
   "cell_type": "code",
   "execution_count": null,
   "metadata": {},
   "outputs": [],
   "source": [
    "test_url = \"https://start.spring.io/\"\n",
    "driver.get(test_url)"
   ]
  },
  {
   "cell_type": "code",
   "execution_count": null,
   "metadata": {},
   "outputs": [],
   "source": [
    "driver.close()"
   ]
  },
  {
   "cell_type": "code",
   "execution_count": null,
   "metadata": {},
   "outputs": [],
   "source": [
    "search_str = \"//input[@id='input-group']\""
   ]
  },
  {
   "cell_type": "markdown",
   "metadata": {},
   "source": [
    "## Scenario\n",
    "\n",
    "```gherkin\n",
    "Given I am at the Spring Initializer website \"https://start.spring.io/\"\n",
    "When I create a Spring boot with the following attributes:\n",
    "  | project | language | version | group          | artifact  | description | packaging | java_version |\n",
    "  | Maven   | Kotlin   | 2.2.8   | com.drkiettran | my_kotlin | testing     | war       | 11           |\n",
    "Then I should receive a zip file\n",
    "And the file should contain a build.gradle file with version 2.2.8\n",
    "```\n",
    "\n",
    "### Description\n",
    "I am using the startup website for Spring Boot projects.\n",
    "In the example below, I basically create a propject with properties\n",
    "defined above (in the When step).\n",
    "\n",
    "When you click on 'Generate' button, a zip file is generated and \n",
    "download to your local disk. Here are few things to take notice:\n",
    "\n",
    "- You need to provide a download directory or a default will be used.\n",
    "- The name of the zip file is the 'artifact' + .zip\n",
    "- Defining the dowlnoad folder is different between browser. I am using Chrome."
   ]
  },
  {
   "cell_type": "code",
   "execution_count": null,
   "metadata": {},
   "outputs": [],
   "source": [
    "test_url = \"https://start.spring.io/\"\n",
    "download_dir = '/home/student/Downloads/selenium/'\n",
    "artifact_name = 'my_kotlin'\n",
    "download_file = download_dir + artifact_name + '.zip'\n",
    "\n",
    "if path.exists(download_file):\n",
    "    os.remove(download_file)\n",
    "\n",
    "chrome_options = Options()\n",
    "chrome_options.add_argument(\"--start-maximized\")\n",
    "chrome_options.add_experimental_option('prefs', {\n",
    "        'download.default_directory': download_dir,\n",
    "})\n",
    "\n",
    "driver = webdriver.Chrome(options=chrome_options)\n",
    "driver.implicitly_wait(5)\n",
    "driver.get(test_url)\n",
    "\n",
    "# Choose Maven Project\n",
    "search_str = \"//*[text()='Maven Project']\"\n",
    "els = driver.find_elements_by_xpath(search_str)\n",
    "els[0].click()\n",
    "\n",
    "# Choose Kotlin\n",
    "search_str = \"//*[text()='Kotlin']\"\n",
    "els = driver.find_elements_by_xpath(search_str)\n",
    "els[0].click()\n",
    "\n",
    "# Choose SpringBoot version 2.2.8\n",
    "search_str = \"//*[text()='2.2.8']\"\n",
    "els = driver.find_elements_by_xpath(search_str)\n",
    "els[0].click()\n",
    "\n",
    "# Enter group name\n",
    "search_str = 'input-group'\n",
    "els = driver.find_elements_by_id(search_str)\n",
    "els[0].clear()\n",
    "els[0].send_keys('com.drkiettran')\n",
    "\n",
    "# Enter artifact\n",
    "search_str = 'input-artifact'\n",
    "els = driver.find_elements_by_id(search_str)\n",
    "els[0].clear()\n",
    "els[0].send_keys(artifact_name)\n",
    "\n",
    "# Choose War packaging\n",
    "search_str = \"//*[text()='War']\"\n",
    "els = driver.find_elements_by_xpath(search_str)\n",
    "els[0].click()\n",
    "\n",
    "# Choose Java 11\n",
    "search_str = \"//*[text()='11']\"\n",
    "els = driver.find_elements_by_xpath(search_str)\n",
    "els[0].click()\n",
    "\n",
    "# Click Generate\n",
    "search_str = \"//*[text()='Generate']\"\n",
    "els = driver.find_elements_by_xpath(search_str)\n",
    "els[0].click()\n",
    "\n",
    "# I should wait after the download and then process file there"
   ]
  },
  {
   "cell_type": "code",
   "execution_count": null,
   "metadata": {},
   "outputs": [],
   "source": [
    "driver.close()"
   ]
  },
  {
   "cell_type": "code",
   "execution_count": null,
   "metadata": {},
   "outputs": [],
   "source": [
    "tmp_dir = '/tmp/'\n",
    "extracted_dir = tmp_dir + artifact_name + '/'\n",
    "\n",
    "if path.exists(extracted_dir):\n",
    "    shutil.rmtree(extracted_dir)\n",
    "\n",
    "with zipfile.ZipFile(download_file, 'r') as zip_ref:\n",
    "    zip_ref.extractall(tmp_dir)    "
   ]
  },
  {
   "cell_type": "code",
   "execution_count": null,
   "metadata": {},
   "outputs": [],
   "source": [
    "pom_file = extracted_dir + 'pom.xml'\n",
    "tree = ET.parse(pom_file)\n",
    "root = tree.getroot()\n"
   ]
  },
  {
   "cell_type": "code",
   "execution_count": null,
   "metadata": {},
   "outputs": [],
   "source": [
    "def get_spring_boot_version(root):\n",
    "    for child in root:\n",
    "        if 'parent' in child.tag:\n",
    "            for gchild in child:            \n",
    "                if 'version' in gchild.tag:\n",
    "                    return gchild.text\n",
    "\n",
    "print(get_spring_boot_version(root))                "
   ]
  },
  {
   "cell_type": "code",
   "execution_count": null,
   "metadata": {},
   "outputs": [],
   "source": []
  }
 ],
 "metadata": {
  "kernelspec": {
   "display_name": "Python 3",
   "language": "python",
   "name": "python3"
  },
  "language_info": {
   "codemirror_mode": {
    "name": "ipython",
    "version": 3
   },
   "file_extension": ".py",
   "mimetype": "text/x-python",
   "name": "python",
   "nbconvert_exporter": "python",
   "pygments_lexer": "ipython3",
   "version": "3.6.9"
  }
 },
 "nbformat": 4,
 "nbformat_minor": 4
}
